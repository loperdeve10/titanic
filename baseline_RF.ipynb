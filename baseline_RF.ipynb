{
 "cells": [
  {
   "cell_type": "code",
   "execution_count": 94,
   "metadata": {
    "_cell_guid": "b1076dfc-b9ad-4769-8c92-a6c4dae69d19",
    "_uuid": "8f2839f25d086af736a60e9eeb907d3b93b6e0e5"
   },
   "outputs": [],
   "source": [
    "# This Python 3 environment comes with many helpful analytics libraries installed\n",
    "# It is defined by the kaggle/python Docker image: https://github.com/kaggle/docker-python\n",
    "# For example, here's several helpful packages to load\n",
    "\n",
    "import numpy as np # linear algebra\n",
    "import pandas as pd # data processing, CSV file I/O (e.g. pd.read_csv)\n",
    "from matplotlib import pyplot as plt\n",
    "import seaborn as sns\n",
    "\n",
    "\n",
    "# Input data files are available in the read-only \"../input/\" directory\n",
    "# For example, running this (by clicking run or pressing Shift+Enter) will list all files under the input directory\n",
    "\n",
    "import os\n",
    "for dirname, _, filenames in os.walk('/kaggle/input'):\n",
    "    for filename in filenames:\n",
    "        print(os.path.join(dirname, filename))\n",
    "\n",
    "# You can write up to 20GB to the current directory (/kaggle/working/) that gets preserved as output when you create a version using \"Save & Run All\" \n",
    "# You can also write temporary files to /kaggle/temp/, but they won't be saved outside of the current session"
   ]
  },
  {
   "cell_type": "code",
   "execution_count": 95,
   "metadata": {},
   "outputs": [],
   "source": [
    "import pandas as pd\n",
    "from pathlib import Path\n",
    "import sklearn as sk\n",
    "from sklearn.ensemble import RandomForestClassifier\n",
    "from sklearn.model_selection import train_test_split\n",
    "from sklearn.metrics import accuracy_score, f1_score, recall_score, precision_score\n"
   ]
  },
  {
   "cell_type": "code",
   "execution_count": 96,
   "metadata": {},
   "outputs": [],
   "source": [
    "BASE_PATH = Path(\"/home/user/PycharmProjects/training/titanic\")\n",
    "\n",
    "TRAIN_PATH =  BASE_PATH / \"train.csv\"\n",
    "TEST_PATH = BASE_PATH / \"test.csv\"\n",
    "GENDER_SUBMISSION_PATH = BASE_PATH / \"gender_submission.csv\""
   ]
  },
  {
   "cell_type": "code",
   "execution_count": 97,
   "metadata": {},
   "outputs": [],
   "source": [
    "# load\n",
    "train_df = pd.read_csv(TRAIN_PATH)\n",
    "test_df = pd.read_csv(TEST_PATH)\n",
    "gender_sub_df = pd.read_csv(GENDER_SUBMISSION_PATH)"
   ]
  },
  {
   "cell_type": "code",
   "execution_count": 98,
   "metadata": {},
   "outputs": [
    {
     "name": "stdout",
     "output_type": "stream",
     "text": [
      "accuracy_score(y_test, y_hat) = 0.8203389830508474\n",
      "f1_score(y_test, y_hat) = 0.7534883720930232\n",
      "recall_score(y_test, y_hat) = 0.675\n",
      "precision_score(y_test, y_hat) = 0.8526315789473684\n"
     ]
    }
   ],
   "source": [
    "# Run BASELINE - fit predict ~ 80 acc\n",
    "X = train_df.drop(\"Survived\", axis=1, inplace=False)\n",
    "X.drop(\"Name\", axis=1, inplace=True)\n",
    "X.Sex = X.Sex.map({\"male\":1, \"female\":-1})\n",
    "X.Embarked = X.Embarked.map({\"Q\":1, \"S\":2, \"C\":3})\n",
    "\n",
    "X.drop(\"Ticket\", axis=1, inplace=True)\n",
    "X.drop(\"Cabin\", axis=1, inplace=True)\n",
    "    \n",
    "\n",
    "X=X.fillna(0) # HACK to reslove Input contains NaN, infinity or a value too large for dtype('float32').\n",
    "\n",
    "y = train_df[\"Survived\"]\n",
    "\n",
    "X_train, X_test, y_train, y_test = train_test_split(X, y, test_size=0.33, random_state=42)\n",
    "\n",
    "\n",
    "clf = RandomForestClassifier(random_state=6)\n",
    "clf.fit(X_train, y_train)\n",
    "y_hat = clf.predict(X_test)\n",
    "print(f\"accuracy_score(y_test, y_hat) = {accuracy_score(y_test, y_hat)}\")\n",
    "print(f\"f1_score(y_test, y_hat) = {f1_score(y_test, y_hat)}\")\n",
    "print(f\"recall_score(y_test, y_hat) = {recall_score(y_test, y_hat)}\")\n",
    "print(f\"precision_score(y_test, y_hat) = {precision_score(y_test, y_hat)}\")\n"
   ]
  },
  {
   "cell_type": "code",
   "execution_count": 101,
   "metadata": {},
   "outputs": [
    {
     "data": {
      "image/png": "[encoded data removed]",
      "text/plain": [
       "<Figure size 720x576 with 1 Axes>"
      ]
     },
     "metadata": {
      "needs_background": "light"
     },
     "output_type": "display_data"
    }
   ],
   "source": [
    "#Create arrays from feature importance and feature names\n",
    "feature_importance = np.array(clf.feature_importances_)\n",
    "feature_names = np.array(X_train.columns)\n",
    "\n",
    "# #Create a DataFrame using a Dictionary\n",
    "data={'feature_names':feature_names,'feature_importance':feature_importance}\n",
    "fi_df = pd.DataFrame(data)\n",
    "\n",
    "# #Sort the DataFrame in order decreasing feature importance\n",
    "fi_df.sort_values(by=['feature_importance'], ascending=False,inplace=True)\n",
    "\n",
    "#Define size of bar plot\n",
    "plt.figure(figsize=(10,8))\n",
    "#Plot Searborn bar chart\n",
    "sns.barplot(y=fi_df['feature_importance'], x=fi_df['feature_names'])\n",
    "#Add chart labels\n",
    "plt.title(\"FEATURE IMPORTANCE: Random Forest\")\n",
    "plt.xlabel('FEATURE NAMES')\n",
    "plt.ylabel('FEATURE IMPORTANCE')\n",
    "_=_"
   ]
  }
 ],
 "metadata": {
  "kernelspec": {
   "display_name": "Python 3",
   "language": "python",
   "name": "python3"
  },
  "language_info": {
   "codemirror_mode": {
    "name": "ipython",
    "version": 3
   },
   "file_extension": ".py",
   "mimetype": "text/x-python",
   "name": "python",
   "nbconvert_exporter": "python",
   "pygments_lexer": "ipython3",
   "version": "3.8.5"
  }
 },
 "nbformat": 4,
 "nbformat_minor": 4
}
